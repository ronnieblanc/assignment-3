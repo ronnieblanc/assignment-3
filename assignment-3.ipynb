{
 "cells": [
  {
   "cell_type": "code",
   "execution_count": 124,
   "metadata": {},
   "outputs": [],
   "source": [
    "import numpy as np\n",
    "import pandas as pd\n",
    "import seaborn as sns\n",
    "import matplotlib.pyplot as plt\n",
    "from scipy.stats import norm, expon"
   ]
  },
  {
   "cell_type": "markdown",
   "metadata": {},
   "source": [
    "----\n",
    "### Ex 1"
   ]
  },
  {
   "cell_type": "markdown",
   "metadata": {},
   "source": [
    "The parameter is $$\\theta = \\frac{E(X)}{E(U)}.$$ An estimator is $$\\hat{\\theta} = \\frac{\\sum_{i=1}^N{X_i}/N}{\\sum_{i=1}^N{U}/N},$$ where $\\{(X_1,U_1),\\ldots,(X_N,U_N)\\}$ is the data. "
   ]
  },
  {
   "cell_type": "code",
   "execution_count": 4,
   "metadata": {},
   "outputs": [],
   "source": [
    "df = pd.read_csv('/Users/francis/Desktop/bigcity.csv')[['u','x']]"
   ]
  },
  {
   "cell_type": "code",
   "execution_count": 8,
   "metadata": {},
   "outputs": [
    {
     "data": {
      "text/plain": [
       "1.2390185991294025"
      ]
     },
     "execution_count": 8,
     "metadata": {},
     "output_type": "execute_result"
    }
   ],
   "source": [
    "estimate_from_sample = df['x'].mean() / df['u'].mean()\n",
    "estimate_from_sample"
   ]
  },
  {
   "cell_type": "markdown",
   "metadata": {},
   "source": [
    "Bootstrap estimate of the bias and standard error of the above estimate:"
   ]
  },
  {
   "cell_type": "code",
   "execution_count": 22,
   "metadata": {},
   "outputs": [],
   "source": [
    "def bootstrap_replicate(df, estimator):\n",
    "    sample = df.sample(frac=1, replace=True)\n",
    "    return estimator(sample)  \n",
    "\n",
    "N = 1000; boot_estimates = np.empty(N)\n",
    "for i in range(N):\n",
    "    boot_estimates[i] = bootstrap_replicate(df, lambda x: x['x'].mean() / x['u'].mean())"
   ]
  },
  {
   "cell_type": "code",
   "execution_count": 25,
   "metadata": {},
   "outputs": [
    {
     "data": {
      "text/plain": [
       "0.0016797241009367525"
      ]
     },
     "execution_count": 25,
     "metadata": {},
     "output_type": "execute_result"
    }
   ],
   "source": [
    "# bootstrap bias\n",
    "boot_estimates.mean() - estimate_from_sample"
   ]
  },
  {
   "cell_type": "code",
   "execution_count": 23,
   "metadata": {},
   "outputs": [
    {
     "data": {
      "text/plain": [
       "0.03358379103914602"
      ]
     },
     "execution_count": 23,
     "metadata": {},
     "output_type": "execute_result"
    }
   ],
   "source": [
    "# bootstrap standard error\n",
    "boot_se = boot_estimates.std()\n",
    "boot_se"
   ]
  },
  {
   "cell_type": "markdown",
   "metadata": {},
   "source": [
    "The bootstrap confidence interval (percentile interval) is $(\\hat{\\theta}^*_{\\alpha/2}, \\hat{\\theta}^*_{1-\\alpha/2})$, where $\\hat{\\theta}^*_{\\beta}$ is the $\\beta$ quantile of our bootstrap estimates. In our case $\\alpha = 0.1$, so the confidence interval is $(\\hat{\\theta}^*_{0.05}, \\hat{\\theta}^*_{0.95})$"
   ]
  },
  {
   "cell_type": "code",
   "execution_count": 24,
   "metadata": {},
   "outputs": [
    {
     "data": {
      "text/plain": [
       "array([1.18869825, 1.29768611])"
      ]
     },
     "execution_count": 24,
     "metadata": {},
     "output_type": "execute_result"
    }
   ],
   "source": [
    "conf_interval = np.quantile(boot_estimates, [0.05, 0.95])\n",
    "conf_interval"
   ]
  },
  {
   "cell_type": "markdown",
   "metadata": {},
   "source": [
    "----\n",
    "### Ex 2"
   ]
  },
  {
   "cell_type": "markdown",
   "metadata": {},
   "source": [
    "Suppose $X\\sim F$, then $F(X)\\sim U(0,1)$, so that $X\\sim F^{-1}(U)$. We can first draw random samples $\\{u_1,\\ldots,u_n\\}$ from the uniform distribution $U(0,1)$. Then $\\{x_1=F^{-1}(u_1),\\ldots,x_n=F^{-1}(u_n)\\}$ should be a random sample from the $F$ distribution.\n",
    "\n",
    "Now, the Weibull distribution given is:\n",
    "$$F(y) = 1 - \\exp\\{-(y/\\mu)^\\alpha\\},$$ so the inverse of $F$ is\n",
    "$$F^{-1}(z) = \\mu\\cdot\\left[\\log\\left(\\frac{1}{1-z}\\right)\\right]^{1/\\alpha}.$$\n",
    "\n",
    "Note that since $Z\\sim U(0,1)$ implies that $1-Z\\sim U(0,1)$, drawing samples according to $F^{-1}$ is equivalent to drawing samples using $\\mu\\cdot\\left(-\\ln(U)\\right)^{1/\\alpha}$, which is how `numpy.random.weibull` is implemented (see [documentation](https://docs.scipy.org/doc/numpy/reference/generated/numpy.random.weibull.html#numpy.random.weibull))\n",
    "\n",
    "\n",
    "\n",
    "\n"
   ]
  },
  {
   "cell_type": "code",
   "execution_count": 31,
   "metadata": {},
   "outputs": [],
   "source": [
    "def weibull_inverse(z, mu=1, alpha=5):\n",
    "    return mu * np.log(1 / (1-z))** (1/alpha)\n",
    "\n",
    "samples = weibull_inverse(np.random.uniform(size=10000))"
   ]
  },
  {
   "cell_type": "markdown",
   "metadata": {},
   "source": [
    "The theoretical Weibull PDF is the first derivative of $F$, which is\n",
    "$$f(x) = \\frac{\\alpha}{\\mu}\\left(\\frac{x}{\\mu}\\right)^{\\alpha-1}\\cdot e^{-(\\frac{x}{\\mu})^\\alpha}$$\n",
    "\n"
   ]
  },
  {
   "cell_type": "code",
   "execution_count": 35,
   "metadata": {},
   "outputs": [],
   "source": [
    "def theoretical_weibull_pdf(x, mu=1, alpha=5):\n",
    "    return (alpha / mu) * (x / mu)**(alpha-1) * np.exp(-(x/mu)**alpha)"
   ]
  },
  {
   "cell_type": "markdown",
   "metadata": {},
   "source": [
    "Plot the sample distribution as well as the theoretical pdf. As one can see, the two density functions almost overlap:"
   ]
  },
  {
   "cell_type": "code",
   "execution_count": 40,
   "metadata": {},
   "outputs": [
    {
     "data": {
      "image/png": "[encoded data removed]",
      "text/plain": [
       "<Figure size 432x288 with 1 Axes>"
      ]
     },
     "metadata": {
      "needs_background": "light"
     },
     "output_type": "display_data"
    }
   ],
   "source": [
    "x = np.linspace(0, 1.75, num=500)\n",
    "sns.distplot(tuple(samples))  # distribution from samples\n",
    "plt.plot(x, theoretical_weibull_pdf(x))  # theoretical distribution\n",
    "plt.show()"
   ]
  },
  {
   "cell_type": "markdown",
   "metadata": {},
   "source": [
    "----\n",
    "### Ex 3"
   ]
  },
  {
   "cell_type": "code",
   "execution_count": 47,
   "metadata": {},
   "outputs": [],
   "source": [
    "def gaussian(x, mean, dev=0.1):\n",
    "    return 1/(np.sqrt(2*np.pi)*dev)*np.exp(-(x-mean)**2/(2*dev**2))"
   ]
  },
  {
   "cell_type": "code",
   "execution_count": 52,
   "metadata": {},
   "outputs": [
    {
     "data": {
      "image/png": "[encoded data removed]",
      "text/plain": [
       "<Figure size 432x288 with 1 Axes>"
      ]
     },
     "metadata": {
      "needs_background": "light"
     },
     "output_type": "display_data"
    }
   ],
   "source": [
    "# True parameters is: [0, 3, 0.4, 0.1, 0.3]\n",
    "N = 10000; a = 0.3\n",
    "sample1 = np.random.normal(0, 0.4, size=int(N*a))\n",
    "sample2 = np.random.normal(3, 0.1, size=int(N*(1-a)))\n",
    "sample = np.concatenate([sample1, sample2])\n",
    "sns.distplot(sample, bins=100)\n",
    "plt.show()"
   ]
  },
  {
   "cell_type": "code",
   "execution_count": 56,
   "metadata": {},
   "outputs": [
    {
     "data": {
      "image/png": "[encoded data removed]",
      "text/plain": [
       "<Figure size 432x288 with 1 Axes>"
      ]
     },
     "metadata": {
      "needs_background": "light"
     },
     "output_type": "display_data"
    }
   ],
   "source": [
    "max_iter = 100\n",
    "params = np.array([-1, 1, 1, 1, 0.5])\n",
    "counter  = 0\n",
    "converged = False\n",
    "tol = 0.1\n",
    "plabel_1 = np.zeros(sample.shape)\n",
    "plabel_2 = np.zeros(sample.shape)\n",
    "while not converged and counter < max_iter:\n",
    "    counter = counter + 1\n",
    "    mu1, mu2, sigma1, sigma2, pi_1 = params\n",
    "    # Expectation Step\n",
    "    for i in range(len(sample)):\n",
    "        cdf1 = gaussian(sample[i], mu1, sigma1)\n",
    "        cdf2 = gaussian(sample[i], mu2, sigma2)\n",
    "        pi_2 = 1 - pi_1\n",
    "        plabel_1[i] = cdf1 * pi_1 / (cdf1 * pi_1 + cdf2 * pi_2)\n",
    "        plabel_2[i] = cdf2 * pi_2 / (cdf1 * pi_1 + cdf2 * pi_2)\n",
    "    # Maximization Step\n",
    "    mu1 = sum(plabel_1 * sample)/sum(plabel_1)\n",
    "    mu2 = sum(plabel_2 * sample)/sum(plabel_2)\n",
    "    sigma1 = np.sqrt(sum(plabel_1 * (sample - mu1) ** 2) / sum(plabel_1))  # std.\n",
    "    sigma2 = np.sqrt(sum(plabel_2 * (sample - mu2) ** 2) / sum(plabel_2))  # std.\n",
    "    pi_1 = sum(plabel_1) / len(sample)\n",
    "    new_paramaters = np.array([mu1, mu2, sigma1, sigma2, pi_1])\n",
    "    print(new_paramaters)\n",
    "    \n",
    "    # Check convergence\n",
    "    if np.max(abs(np.asarray(params) - np.asarray(new_paramaters))) < tol:\n",
    "        converged = True\n",
    "    params = new_paramaters\n",
    "\n",
    "plt.hist(sample, bins=100, density=True)\n",
    "x = np.linspace(sample.min(), sample.max(), 100)\n",
    "plt.plot(x, norm.pdf(x, mu1, sigma1))\n",
    "plt.plot(x, norm.pdf(x, mu2, sigma2))\n",
    "plt.show()"
   ]
  },
  {
   "cell_type": "markdown",
   "metadata": {},
   "source": [
    "----\n",
    "### Ex 4"
   ]
  },
  {
   "cell_type": "markdown",
   "metadata": {},
   "source": [
    "$$f(x;\\delta) =\n",
    "\\begin{cases}\n",
    "\\frac{\\delta}{x\\sqrt{2\\pi}}\\cosh\\{\\delta\\log(2x)\\}\\exp\\{-\\sinh\\{\\delta\\log(2x)\\}^2/2\\} & \\text{ for }x > 0\\\\\n",
    "0 & \\text{ otherwise.} \n",
    "\\end{cases}\n",
    "$$"
   ]
  },
  {
   "cell_type": "code",
   "execution_count": 114,
   "metadata": {},
   "outputs": [],
   "source": [
    "# Distribution of X\n",
    "def f(x, delta=1.5):\n",
    "    if x <= 0: return 0\n",
    "    component = delta * np.log(2*x)\n",
    "    return (delta /(x*np.sqrt(2*np.pi))) * np.cosh(component) * np.exp(-np.sinh((component)**2) /2)\n",
    "\n",
    "# turn f into a numpy universal function (its number of input is 1, and number of output is 1)\n",
    "uf = np.frompyfunc(f, 1, 1)"
   ]
  },
  {
   "cell_type": "code",
   "execution_count": 166,
   "metadata": {},
   "outputs": [],
   "source": [
    "x = np.linspace(0,5,5000)"
   ]
  },
  {
   "cell_type": "code",
   "execution_count": 167,
   "metadata": {},
   "outputs": [
    {
     "data": {
      "image/png": "[encoded data removed]",
      "text/plain": [
       "<Figure size 432x288 with 1 Axes>"
      ]
     },
     "metadata": {
      "needs_background": "light"
     },
     "output_type": "display_data"
    }
   ],
   "source": [
    "plt.plot(x, uf(x), color='red', label='$\\delta=1.5$.')\n",
    "plt.xlim([0,3])\n",
    "plt.legend()\n",
    "plt.show()"
   ]
  },
  {
   "cell_type": "markdown",
   "metadata": {},
   "source": [
    "The exponential PDF is $$g(x) = \\lambda e^{-\\lambda x}, \\quad\\lambda > 0.$$ "
   ]
  },
  {
   "cell_type": "code",
   "execution_count": 125,
   "metadata": {},
   "outputs": [],
   "source": [
    "# Envelope - Exponential distribution\n",
    "def g(x, _lambda=1):\n",
    "    return expon.pdf(x, scale=1 /_lambda)"
   ]
  },
  {
   "cell_type": "markdown",
   "metadata": {},
   "source": [
    "We let $\\alpha = \\mathrm{argmax}_{x\\in S}\\{f(x)/g(x)\\}$, where $S=[0,\\infty)$. In this case $f(x)\\leq \\alpha g(x)$ for all $x\\in S$. The acceptance-rejection method for sampling is as follows:\n",
    "\n",
    "Repeatedly draw sample $x$ from $g$ and uniform sample $u$ from $U(0,1)$. If $$u\\leq\\frac{f(x)}{\\alpha g(x)}$$ then we accept $x$, otherwise we reject $x$."
   ]
  },
  {
   "cell_type": "code",
   "execution_count": 168,
   "metadata": {},
   "outputs": [
    {
     "data": {
      "image/png": "[encoded data removed]",
      "text/plain": [
       "<Figure size 432x288 with 1 Axes>"
      ]
     },
     "metadata": {
      "needs_background": "light"
     },
     "output_type": "display_data"
    }
   ],
   "source": [
    "alpha = max(uf(x)/g(x))  # alpha\n",
    "plt.plot(x, alpha*g(x), color='blue', label=r'$\\alpha\\cdot g(x,\\lambda=1)$.')\n",
    "plt.plot(x, uf(x), color='red', label='$f(x,\\delta=1.5)$')\n",
    "plt.xlim([0,3])\n",
    "plt.legend()\n",
    "plt.show()"
   ]
  },
  {
   "cell_type": "code",
   "execution_count": 153,
   "metadata": {},
   "outputs": [],
   "source": [
    "def accept_reject(iterations):\n",
    "    generated_samples = []\n",
    "    for i in range(iterations):\n",
    "        x = np.random.exponential()\n",
    "        u = np.random.uniform(0, 1)\n",
    "        if u <= uf(x)/(g(x)*alpha):\n",
    "            generated_samples.append(x)\n",
    "    return np.array(generated_samples)"
   ]
  },
  {
   "cell_type": "code",
   "execution_count": 169,
   "metadata": {},
   "outputs": [
    {
     "data": {
      "image/png": "[encoded data removed]",
      "text/plain": [
       "<Figure size 432x288 with 1 Axes>"
      ]
     },
     "metadata": {
      "needs_background": "light"
     },
     "output_type": "display_data"
    }
   ],
   "source": [
    "samples = accept_reject(10000)\n",
    "sns.distplot(samples, color='red')\n",
    "plt.title('Distribution of Samples')\n",
    "plt.show()"
   ]
  },
  {
   "cell_type": "markdown",
   "metadata": {},
   "source": [
    "Our estimate of $E(X^2)$ from sample $\\{x_1,\\ldots,x_N\\}$ is $$\\frac{\\sum_{i=1}^N x^2_i}{N},$$ where $N$ is the sample size:"
   ]
  },
  {
   "cell_type": "code",
   "execution_count": 174,
   "metadata": {},
   "outputs": [
    {
     "data": {
      "text/plain": [
       "0.4127292415140635"
      ]
     },
     "execution_count": 174,
     "metadata": {},
     "output_type": "execute_result"
    }
   ],
   "source": [
    "# the function `second_moment` is an estimator of the second moment of the random variable that generates the data.\n",
    "def second_moment(data):\n",
    "    return np.mean(data**2)\n",
    "estimate = second_moment(samples)\n",
    "estimate"
   ]
  },
  {
   "cell_type": "markdown",
   "metadata": {},
   "source": [
    "We now use bootstrap to get the standard error and confidence interval of our estimate:"
   ]
  },
  {
   "cell_type": "code",
   "execution_count": 203,
   "metadata": {},
   "outputs": [],
   "source": [
    "\"\"\"\n",
    "Return bootstrap standard error and confidence interval of an estimator.\n",
    "\"\"\"\n",
    "def bootstrap(data, estimator, N=1000, alpha=0.1):\n",
    "    estimate = estimator(data)\n",
    "    boot_estimates = np.empty(N)\n",
    "    for i in range(N):\n",
    "        boot_data = np.random.choice(data, len(data))\n",
    "        boot_estimates[i] = estimator(boot_data)  \n",
    "    \n",
    "    std = np.std(boot_estimates)\n",
    "    confidence_interval = np.quantile(boot_estimates, [alpha/2, 1-alpha/2])\n",
    "    return std, confidence_interval"
   ]
  },
  {
   "cell_type": "code",
   "execution_count": 207,
   "metadata": {},
   "outputs": [
    {
     "name": "stdout",
     "output_type": "stream",
     "text": [
      "The bootstrap standard error is 0.0067.\n",
      "\n",
      "The bootstrap conficence interval is [0.40020105 0.42331526]\n",
      "\n"
     ]
    }
   ],
   "source": [
    "std, confidence_interval = bootstrap(samples, estimator=second_moment)\n",
    "print(f\"\"\"The bootstrap standard error is {std:.4}.\\n\n",
    "The bootstrap conficence interval is {confidence_interval}\n",
    "\"\"\")  "
   ]
  },
  {
   "cell_type": "code",
   "execution_count": null,
   "metadata": {},
   "outputs": [],
   "source": []
  }
 ],
 "metadata": {
  "kernelspec": {
   "display_name": "Python 3",
   "language": "python",
   "name": "python3"
  },
  "language_info": {
   "codemirror_mode": {
    "name": "ipython",
    "version": 3
   },
   "file_extension": ".py",
   "mimetype": "text/x-python",
   "name": "python",
   "nbconvert_exporter": "python",
   "pygments_lexer": "ipython3",
   "version": "3.6.6"
  }
 },
 "nbformat": 4,
 "nbformat_minor": 2
}
